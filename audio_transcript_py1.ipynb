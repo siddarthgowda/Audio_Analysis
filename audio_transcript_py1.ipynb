{
  "nbformat": 4,
  "nbformat_minor": 0,
  "metadata": {
    "colab": {
      "provenance": [],
      "authorship_tag": "ABX9TyO7OZye0WM7sJ3s9v6dxoGO",
      "include_colab_link": true
    },
    "kernelspec": {
      "name": "python3",
      "display_name": "Python 3"
    },
    "language_info": {
      "name": "python"
    }
  },
  "cells": [
    {
      "cell_type": "markdown",
      "metadata": {
        "id": "view-in-github",
        "colab_type": "text"
      },
      "source": [
        "<a href=\"https://colab.research.google.com/github/siddarthgowda/Audio_Analysis/blob/main/audio_transcript_py1.ipynb\" target=\"_parent\"><img src=\"https://colab.research.google.com/assets/colab-badge.svg\" alt=\"Open In Colab\"/></a>"
      ]
    },
    {
      "cell_type": "code",
      "execution_count": 3,
      "metadata": {
        "colab": {
          "base_uri": "https://localhost:8080/"
        },
        "id": "rRNzQd2vhWTU",
        "outputId": "8bfeb7b3-dc3e-42e3-a6e9-43f16da7d13d"
      },
      "outputs": [
        {
          "output_type": "stream",
          "name": "stderr",
          "text": [
            "/usr/local/lib/python3.11/dist-packages/whisper/transcribe.py:126: UserWarning: FP16 is not supported on CPU; using FP32 instead\n",
            "  warnings.warn(\"FP16 is not supported on CPU; using FP32 instead\")\n"
          ]
        },
        {
          "output_type": "stream",
          "name": "stdout",
          "text": [
            "text:  Thank you for calling life support service. This is Jane. How can I help you? I have a question about something that I received in a mail. Sure. I'll be glad to assist you regarding that mail. Perfect. Can you please tell me more about the mail you received? Yeah, sure. Well, you see, couple of weeks ago. I met with an accident and I was rushed to hospital. My knees slammed into the dashboard. But I feel better now. I was under the impression that my insurance will cover the whole bill. But this paperwork says something else. I will be happy to check your account so that I can help you better. Okay, thank you. May I have your complete name, sir? My first name is John. Last name is Williams. And your member ID, John? My ID number is 1dg4t6nk62. And your zip code? 98101 Fifth Avenue.\n"
          ]
        }
      ],
      "source": [
        "import whisper\n",
        "\n",
        "model = whisper.load_model(\"base\")  # Use \"small\" or \"large\" for better accuracy\n",
        "\n",
        "def transcribe_audio(file_path):\n",
        "    result = model.transcribe(file_path)\n",
        "    return result[\"text\"]\n",
        "\n",
        "# Example usage\n",
        "text = transcribe_audio(\"/content/sample_data/audio3.wav\")\n",
        "print(\"text:\",text)\n"
      ]
    },
    {
      "cell_type": "code",
      "source": [
        "from pyannote.audio import Pipeline\n",
        "\n",
        "diarization_pipeline = Pipeline.from_pretrained(\"pyannote/speaker-diarization\", use_auth_token=\"HF_AUTH_KEY\")\n",
        "\n",
        "def get_speaker_segments(file_path):\n",
        "\n",
        "    diarization = diarization_pipeline({\"uri\": \"sample\", \"audio\": file_path})\n",
        "    segments = []\n",
        "    for turn, _, speaker in diarization.itertracks(yield_label=True):\n",
        "        segments.append({\"start\": turn.start, \"end\": turn.end, \"speaker\": speaker})\n",
        "    return segments\n",
        "\n",
        "# Example usage\n",
        "segments = get_speaker_segments(\"/content/sample_data/audio3.wav\")\n"
      ],
      "metadata": {
        "colab": {
          "base_uri": "https://localhost:8080/"
        },
        "id": "eQCBfrx0hzZo",
        "outputId": "52eb92d9-666f-4a41-ee69-68cf1f1df9bc"
      },
      "execution_count": 5,
      "outputs": [
        {
          "output_type": "stream",
          "name": "stderr",
          "text": [
            "INFO:pytorch_lightning.utilities.migration.utils:Lightning automatically upgraded your loaded checkpoint from v1.5.4 to v2.5.1. To apply the upgrade to your files permanently, run `python -m pytorch_lightning.utilities.upgrade_checkpoint ../root/.cache/torch/pyannote/models--pyannote--segmentation/snapshots/c4c8ceafcbb3a7a280c2d357aee9fbc9b0be7f9b/pytorch_model.bin`\n"
          ]
        },
        {
          "output_type": "stream",
          "name": "stdout",
          "text": [
            "Model was trained with pyannote.audio 0.0.1, yours is 3.3.2. Bad things might happen unless you revert pyannote.audio to 0.x.\n",
            "Model was trained with torch 1.10.0+cu102, yours is 2.6.0+cu124. Bad things might happen unless you revert torch to 1.x.\n"
          ]
        }
      ]
    },
    {
      "cell_type": "code",
      "source": [
        "import whisper\n",
        "from pyannote.audio import Pipeline\n",
        "from pyannote.core import Segment\n",
        "\n",
        "# Load Whisper model\n",
        "model = whisper.load_model(\"base\")  # Use \"small\" or \"large\" for better accuracy\n",
        "\n",
        "# Load Pyannote speaker diarization model (requires Hugging Face token)\n",
        "diarization_pipeline = Pipeline.from_pretrained(\"pyannote/speaker-diarization\", use_auth_token=\"HF_AUTH_KEY\"\n",
        ")\n",
        "\n",
        "def transcribe_audio(file_path):\n",
        "    \"\"\"Transcribes the audio file using Whisper.\"\"\"\n",
        "    result = model.transcribe(file_path)\n",
        "    return result[\"segments\"]  # Returns list of timestamped text segments\n",
        "\n",
        "def get_speaker_segments(file_path):\n",
        "    \"\"\"Performs speaker diarization using Pyannote.\"\"\"\n",
        "    diarization = diarization_pipeline({\"uri\": \"sample\", \"audio\": file_path})\n",
        "    segments = []\n",
        "\n",
        "    for turn, _, speaker in diarization.itertracks(yield_label=True):\n",
        "        segments.append({\n",
        "            \"start\": turn.start,\n",
        "            \"end\": turn.end,\n",
        "            \"speaker\": speaker\n",
        "        })\n",
        "    return segments\n",
        "\n",
        "def align_speakers(transcript_segments, speaker_segments):\n",
        "    \"\"\"Matches transcribed text with speaker labels based on timestamps.\"\"\"\n",
        "    dialogue = []\n",
        "\n",
        "    for segment in transcript_segments:\n",
        "        text = segment[\"text\"]\n",
        "        start, end = segment[\"start\"], segment[\"end\"]\n",
        "\n",
        "        # Find the matching speaker\n",
        "        speaker = \"Unknown\"\n",
        "        for s in speaker_segments:\n",
        "            if s[\"start\"] <= start <= s[\"end\"]:\n",
        "                speaker = s[\"speaker\"]\n",
        "                break\n",
        "\n",
        "        dialogue.append(f\"{speaker}: {text}\")\n",
        "\n",
        "    return \"\\n\".join(dialogue)\n",
        "\n",
        "# Main execution\n",
        "if __name__ == \"__main__\":\n",
        "    file_path = \"/content/sample_data/audio3.wav\"  # Update with your audio file\n",
        "\n",
        "    print(\"Transcribing audio...\")\n",
        "    transcript_segments = transcribe_audio(file_path)\n",
        "\n",
        "    print(\"Detecting speakers...\")\n",
        "    speaker_segments = get_speaker_segments(file_path)\n",
        "\n",
        "    print(\"Aligning transcript with speakers...\")\n",
        "    conversation = align_speakers(transcript_segments, speaker_segments)\n",
        "\n",
        "    print(\"\\n--- Conversation ---\")\n",
        "    print(conversation)\n"
      ],
      "metadata": {
        "id": "JDZ0_E4QjefM",
        "colab": {
          "base_uri": "https://localhost:8080/"
        },
        "outputId": "13d75e95-e6c2-4e7b-9be9-28056f4673be"
      },
      "execution_count": 7,
      "outputs": [
        {
          "output_type": "stream",
          "name": "stderr",
          "text": [
            "INFO:pytorch_lightning.utilities.migration.utils:Lightning automatically upgraded your loaded checkpoint from v1.5.4 to v2.5.1. To apply the upgrade to your files permanently, run `python -m pytorch_lightning.utilities.upgrade_checkpoint ../root/.cache/torch/pyannote/models--pyannote--segmentation/snapshots/c4c8ceafcbb3a7a280c2d357aee9fbc9b0be7f9b/pytorch_model.bin`\n"
          ]
        },
        {
          "output_type": "stream",
          "name": "stdout",
          "text": [
            "Model was trained with pyannote.audio 0.0.1, yours is 3.3.2. Bad things might happen unless you revert pyannote.audio to 0.x.\n",
            "Model was trained with torch 1.10.0+cu102, yours is 2.6.0+cu124. Bad things might happen unless you revert torch to 1.x.\n",
            "Transcribing audio...\n"
          ]
        },
        {
          "output_type": "stream",
          "name": "stderr",
          "text": [
            "/usr/local/lib/python3.11/dist-packages/whisper/transcribe.py:126: UserWarning: FP16 is not supported on CPU; using FP32 instead\n",
            "  warnings.warn(\"FP16 is not supported on CPU; using FP32 instead\")\n"
          ]
        },
        {
          "output_type": "stream",
          "name": "stdout",
          "text": [
            "Detecting speakers...\n",
            "Aligning transcript with speakers...\n",
            "\n",
            "--- Conversation ---\n",
            "Unknown:  Thank you for calling life support service.\n",
            "Unknown:  This is Jane. How can I help you?\n",
            "Unknown:  I have a question about something that I received in a mail.\n",
            "Unknown:  Sure. I'll be glad to assist you regarding that mail.\n",
            "Unknown:  Perfect.\n",
            "Unknown:  Can you please tell me more about the mail you received?\n",
            "SPEAKER_00:  Yeah, sure.\n",
            "Unknown:  Well, you see, couple of weeks ago.\n",
            "Unknown:  I met with an accident and I was rushed to hospital.\n",
            "Unknown:  My knees slammed into the dashboard.\n",
            "Unknown:  But I feel better now.\n",
            "Unknown:  I was under the impression that my insurance will cover the whole bill.\n",
            "Unknown:  But this paperwork says something else.\n",
            "Unknown:  I will be happy to check your account so that I can help you better.\n",
            "Unknown:  Okay, thank you.\n",
            "Unknown:  May I have your complete name, sir?\n",
            "Unknown:  My first name is John. Last name is Williams.\n",
            "Unknown:  And your member ID, John?\n",
            "Unknown:  My ID number is 1dg4t6nk62.\n",
            "Unknown:  And your zip code?\n",
            "Unknown:  98101 Fifth Avenue.\n"
          ]
        }
      ]
    },
    {
      "cell_type": "code",
      "source": [
        "import google.generativeai as genai\n",
        "\n",
        "# Set API key directly\n",
        "api_key = \"GEMINI_API_KEY\"  # Replace with a valid API key\n",
        "\n",
        "# Configure API key\n",
        "genai.configure(api_key=api_key)\n",
        "\n",
        "# Define transcript\n",
        "transcript = \"\"\"\n",
        "Thank you for calling life support service. This is Jane. How can I help you?\n",
        "I have a question about something that I received in a mail. Sure.\n",
        "I'll be glad to assist you regarding that mail. Perfect. Can you please tell me more about the mail you received?\n",
        "Yeah, sure. Well, you see, couple of weeks ago. I met with an accident and I was rushed to hospital. My knees slammed into the dashboard. But I feel better now. I was under the impression that my insurance will cover the whole bill. But this paperwork says something else.\n",
        "I will be happy to check your account so that I can help you better.\n",
        "Okay, thank you.\n",
        "May I have your complete name, sir?\n",
        "My first name is John. Last name is Williams.\n",
        "And your member ID, John?\n",
        "My ID number is 1dg4t6nk62.\n",
        "And your zip code?\n",
        "98101 Fifth Avenue.\n",
        "\"\"\"\n",
        "\n",
        "# Define prompt\n",
        "prompt = f\"\"\"\n",
        "Analyze the following call transcript and rate the following aspects on a scale of 1 to 10:\n",
        "- Overall transcript analysis score\n",
        "- User-Agent interaction score\n",
        "- Agent communication score\n",
        "- User response score\n",
        "- User language clarity\n",
        "- Solution given clarity\n",
        "\n",
        "Also, provide a sentiment analysis (positive, neutral, negative) with a brief explanation.\n",
        "\n",
        "Transcript:\n",
        "{transcript}\n",
        "\"\"\"\n",
        "\n",
        "# Initialize the Gemini model\n",
        "model = genai.GenerativeModel(\"gemini-2.0-flash\")\n",
        "\n",
        "# Generate response\n",
        "response = model.generate_content(prompt)\n",
        "\n",
        "# Print analysis\n",
        "print(\"Analysis Results:\\n\")\n",
        "print(response.text)\n"
      ],
      "metadata": {
        "id": "3ZFgAe2Jk_Cw",
        "colab": {
          "base_uri": "https://localhost:8080/",
          "height": 349
        },
        "outputId": "9a5558e4-47eb-433c-b027-7f4f195eeda2"
      },
      "execution_count": 8,
      "outputs": [
        {
          "output_type": "stream",
          "name": "stdout",
          "text": [
            "Analysis Results:\n",
            "\n",
            "Okay, here's the analysis of the call transcript:\n",
            "\n",
            "**Ratings (1-10 scale):**\n",
            "\n",
            "*   **Overall Transcript Analysis Score:** 7 - The transcript shows a reasonably smooth interaction, but lacks resolution. More information and follow-up are needed.\n",
            "*   **Agent Interaction Score:** 8 - Jane is polite and offers assistance. She seeks necessary information to help the user. Her prompts are clear.\n",
            "*   **User Response Score:** 7 - John provides the requested information, albeit with a slightly rambling explanation initially. He's cooperative.\n",
            "*   **Agent Communication Clarity:** 9 - Jane's communication is clear, concise, and professional.\n",
            "*   **User Language Clarity:** 7 - John's initial explanation is a bit verbose, but he ultimately provides the needed information.\n",
            "*   **Solution Given Clarity:** 2 - There is no solution given in this snippet. The agent is only in the information gathering stage.\n",
            "\n",
            "**Sentiment Analysis:**\n",
            "\n",
            "*   **Sentiment:** Neutral\n",
            "*   **Explanation:** The overall sentiment is neutral. John is expressing a concern, but not in an overtly angry or frustrated way. Jane is maintaining a professional and helpful demeanor. The situation is presented without strong emotional charge at this point.\n",
            "\n"
          ]
        }
      ]
    },
    {
      "cell_type": "code",
      "source": [
        "from google.colab import files\n",
        "uploaded = files.upload()"
      ],
      "metadata": {
        "id": "UButFUO8lD0e",
        "colab": {
          "base_uri": "https://localhost:8080/",
          "height": 73
        },
        "outputId": "02efb554-273f-4e60-ce1e-9916e3b5ead5"
      },
      "execution_count": 9,
      "outputs": [
        {
          "output_type": "display_data",
          "data": {
            "text/plain": [
              "<IPython.core.display.HTML object>"
            ],
            "text/html": [
              "\n",
              "     <input type=\"file\" id=\"files-12474401-9d39-4aa5-accd-d868e3f539ce\" name=\"files[]\" multiple disabled\n",
              "        style=\"border:none\" />\n",
              "     <output id=\"result-12474401-9d39-4aa5-accd-d868e3f539ce\">\n",
              "      Upload widget is only available when the cell has been executed in the\n",
              "      current browser session. Please rerun this cell to enable.\n",
              "      </output>\n",
              "      <script>// Copyright 2017 Google LLC\n",
              "//\n",
              "// Licensed under the Apache License, Version 2.0 (the \"License\");\n",
              "// you may not use this file except in compliance with the License.\n",
              "// You may obtain a copy of the License at\n",
              "//\n",
              "//      http://www.apache.org/licenses/LICENSE-2.0\n",
              "//\n",
              "// Unless required by applicable law or agreed to in writing, software\n",
              "// distributed under the License is distributed on an \"AS IS\" BASIS,\n",
              "// WITHOUT WARRANTIES OR CONDITIONS OF ANY KIND, either express or implied.\n",
              "// See the License for the specific language governing permissions and\n",
              "// limitations under the License.\n",
              "\n",
              "/**\n",
              " * @fileoverview Helpers for google.colab Python module.\n",
              " */\n",
              "(function(scope) {\n",
              "function span(text, styleAttributes = {}) {\n",
              "  const element = document.createElement('span');\n",
              "  element.textContent = text;\n",
              "  for (const key of Object.keys(styleAttributes)) {\n",
              "    element.style[key] = styleAttributes[key];\n",
              "  }\n",
              "  return element;\n",
              "}\n",
              "\n",
              "// Max number of bytes which will be uploaded at a time.\n",
              "const MAX_PAYLOAD_SIZE = 100 * 1024;\n",
              "\n",
              "function _uploadFiles(inputId, outputId) {\n",
              "  const steps = uploadFilesStep(inputId, outputId);\n",
              "  const outputElement = document.getElementById(outputId);\n",
              "  // Cache steps on the outputElement to make it available for the next call\n",
              "  // to uploadFilesContinue from Python.\n",
              "  outputElement.steps = steps;\n",
              "\n",
              "  return _uploadFilesContinue(outputId);\n",
              "}\n",
              "\n",
              "// This is roughly an async generator (not supported in the browser yet),\n",
              "// where there are multiple asynchronous steps and the Python side is going\n",
              "// to poll for completion of each step.\n",
              "// This uses a Promise to block the python side on completion of each step,\n",
              "// then passes the result of the previous step as the input to the next step.\n",
              "function _uploadFilesContinue(outputId) {\n",
              "  const outputElement = document.getElementById(outputId);\n",
              "  const steps = outputElement.steps;\n",
              "\n",
              "  const next = steps.next(outputElement.lastPromiseValue);\n",
              "  return Promise.resolve(next.value.promise).then((value) => {\n",
              "    // Cache the last promise value to make it available to the next\n",
              "    // step of the generator.\n",
              "    outputElement.lastPromiseValue = value;\n",
              "    return next.value.response;\n",
              "  });\n",
              "}\n",
              "\n",
              "/**\n",
              " * Generator function which is called between each async step of the upload\n",
              " * process.\n",
              " * @param {string} inputId Element ID of the input file picker element.\n",
              " * @param {string} outputId Element ID of the output display.\n",
              " * @return {!Iterable<!Object>} Iterable of next steps.\n",
              " */\n",
              "function* uploadFilesStep(inputId, outputId) {\n",
              "  const inputElement = document.getElementById(inputId);\n",
              "  inputElement.disabled = false;\n",
              "\n",
              "  const outputElement = document.getElementById(outputId);\n",
              "  outputElement.innerHTML = '';\n",
              "\n",
              "  const pickedPromise = new Promise((resolve) => {\n",
              "    inputElement.addEventListener('change', (e) => {\n",
              "      resolve(e.target.files);\n",
              "    });\n",
              "  });\n",
              "\n",
              "  const cancel = document.createElement('button');\n",
              "  inputElement.parentElement.appendChild(cancel);\n",
              "  cancel.textContent = 'Cancel upload';\n",
              "  const cancelPromise = new Promise((resolve) => {\n",
              "    cancel.onclick = () => {\n",
              "      resolve(null);\n",
              "    };\n",
              "  });\n",
              "\n",
              "  // Wait for the user to pick the files.\n",
              "  const files = yield {\n",
              "    promise: Promise.race([pickedPromise, cancelPromise]),\n",
              "    response: {\n",
              "      action: 'starting',\n",
              "    }\n",
              "  };\n",
              "\n",
              "  cancel.remove();\n",
              "\n",
              "  // Disable the input element since further picks are not allowed.\n",
              "  inputElement.disabled = true;\n",
              "\n",
              "  if (!files) {\n",
              "    return {\n",
              "      response: {\n",
              "        action: 'complete',\n",
              "      }\n",
              "    };\n",
              "  }\n",
              "\n",
              "  for (const file of files) {\n",
              "    const li = document.createElement('li');\n",
              "    li.append(span(file.name, {fontWeight: 'bold'}));\n",
              "    li.append(span(\n",
              "        `(${file.type || 'n/a'}) - ${file.size} bytes, ` +\n",
              "        `last modified: ${\n",
              "            file.lastModifiedDate ? file.lastModifiedDate.toLocaleDateString() :\n",
              "                                    'n/a'} - `));\n",
              "    const percent = span('0% done');\n",
              "    li.appendChild(percent);\n",
              "\n",
              "    outputElement.appendChild(li);\n",
              "\n",
              "    const fileDataPromise = new Promise((resolve) => {\n",
              "      const reader = new FileReader();\n",
              "      reader.onload = (e) => {\n",
              "        resolve(e.target.result);\n",
              "      };\n",
              "      reader.readAsArrayBuffer(file);\n",
              "    });\n",
              "    // Wait for the data to be ready.\n",
              "    let fileData = yield {\n",
              "      promise: fileDataPromise,\n",
              "      response: {\n",
              "        action: 'continue',\n",
              "      }\n",
              "    };\n",
              "\n",
              "    // Use a chunked sending to avoid message size limits. See b/62115660.\n",
              "    let position = 0;\n",
              "    do {\n",
              "      const length = Math.min(fileData.byteLength - position, MAX_PAYLOAD_SIZE);\n",
              "      const chunk = new Uint8Array(fileData, position, length);\n",
              "      position += length;\n",
              "\n",
              "      const base64 = btoa(String.fromCharCode.apply(null, chunk));\n",
              "      yield {\n",
              "        response: {\n",
              "          action: 'append',\n",
              "          file: file.name,\n",
              "          data: base64,\n",
              "        },\n",
              "      };\n",
              "\n",
              "      let percentDone = fileData.byteLength === 0 ?\n",
              "          100 :\n",
              "          Math.round((position / fileData.byteLength) * 100);\n",
              "      percent.textContent = `${percentDone}% done`;\n",
              "\n",
              "    } while (position < fileData.byteLength);\n",
              "  }\n",
              "\n",
              "  // All done.\n",
              "  yield {\n",
              "    response: {\n",
              "      action: 'complete',\n",
              "    }\n",
              "  };\n",
              "}\n",
              "\n",
              "scope.google = scope.google || {};\n",
              "scope.google.colab = scope.google.colab || {};\n",
              "scope.google.colab._files = {\n",
              "  _uploadFiles,\n",
              "  _uploadFilesContinue,\n",
              "};\n",
              "})(self);\n",
              "</script> "
            ]
          },
          "metadata": {}
        },
        {
          "output_type": "stream",
          "name": "stdout",
          "text": [
            "Saving audio3.wav to audio3.wav\n"
          ]
        }
      ]
    }
  ]
}